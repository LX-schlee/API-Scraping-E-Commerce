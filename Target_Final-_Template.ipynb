{
 "cells": [
  {
   "cell_type": "markdown",
   "metadata": {},
   "source": [
    "#### Step 1 - Imports"
   ]
  },
  {
   "cell_type": "code",
   "execution_count": 42,
   "metadata": {},
   "outputs": [],
   "source": [
    "import requests \n",
    "import pandas as pd "
   ]
  },
  {
   "cell_type": "markdown",
   "metadata": {},
   "source": [
    "#### Step 2 - Requests & CURL"
   ]
  },
  {
   "cell_type": "code",
   "execution_count": 155,
   "metadata": {},
   "outputs": [],
   "source": [
    "import requests\n",
    "\n",
    "headers = {\n",
    "    'authority': 'redsky.target.com',\n",
    "    'sec-ch-ua': '^\\\\^Chromium^\\\\^;v=^\\\\^92^\\\\^, ^\\\\^',\n",
    "    'accept': 'application/json',\n",
    "    'sec-ch-ua-mobile': '?0',\n",
    "    'user-agent': 'Mozilla/5.0 (Windows NT 10.0; Win64; x64) AppleWebKit/537.36 (KHTML, like Gecko) Chrome/92.0.4515.131 Safari/537.36',\n",
    "    'origin': 'https://www.target.com',\n",
    "    'sec-fetch-site': 'same-site',\n",
    "    'sec-fetch-mode': 'cors',\n",
    "    'sec-fetch-dest': 'empty',\n",
    "    'referer': 'https://www.target.com/c/weight-training-exercise-fitness-sports-outdoors/-/N-5xt7a?Nao=24',\n",
    "    'accept-language': 'en-US,en;q=0.9,de-DE;q=0.8,de;q=0.7',\n",
    "}\n",
    "\n",
    "params = (\n",
    "    ('key', 'ff457966e64d5e877fdbad070f276d18ecec4a01'),\n",
    "    ('category', '5xt7a'),\n",
    "    ('channel', 'WEB'),\n",
    "    ('count', '24'),\n",
    "    ('default_purchasability_filter', 'false'),\n",
    "    ('include_sponsored', 'true'),\n",
    "    ('offset', '48'),\n",
    "    ('page', '^%^2Fc^%^2F5xt7a'),\n",
    "    ('platform', 'desktop'),\n",
    "    ('pricing_store_id', '3991'),\n",
    "    ('useragent', 'Mozilla^%^2F5.0 ^%^28Windows NT 10.0^%^3B Win64^%^3B x64^%^29 AppleWebKit^%^2F537.36 ^%^28KHTML^%^2C like Gecko^%^29 Chrome^%^2F92.0.4515.131 Safari^%^2F537.36'),\n",
    "    ('visitor_id', '017AFCB9478D0201A8BDC7E5A6968734'),\n",
    ")\n",
    "\n",
    "response = requests.get('https://redsky.target.com/redsky_aggregations/v1/web/plp_search_v1', headers=headers, params=params)\n",
    "\n",
    "#NB. Original query string below. It seems impossible to parse and\n",
    "#reproduce query strings 100% accurately so the one below is given\n",
    "#in case the reproduced version is not \"correct\".\n",
    "# response = requests.get('https://redsky.target.com/redsky_aggregations/v1/web/plp_search_v1?key=ff457966e64d5e877fdbad070f276d18ecec4a01&category=5xt7a&channel=WEB&count=24&default_purchasability_filter=false&include_sponsored=true&offset=24&page=^%^2Fc^%^2F5xt7a&platform=desktop&pricing_store_id=3991&useragent=Mozilla^%^2F5.0+^%^28Windows+NT+10.0^%^3B+Win64^%^3B+x64^%^29+AppleWebKit^%^2F537.36+^%^28KHTML^%^2C+like+Gecko^%^29+Chrome^%^2F92.0.4515.131+Safari^%^2F537.36&visitor_id=017AFCB9478D0201A8BDC7E5A6968734', headers=headers)\n"
   ]
  },
  {
   "cell_type": "markdown",
   "metadata": {},
   "source": [
    "#### Step 3 - Check Status Code"
   ]
  },
  {
   "cell_type": "code",
   "execution_count": 156,
   "metadata": {},
   "outputs": [
    {
     "data": {
      "text/plain": [
       "<Response [200]>"
      ]
     },
     "execution_count": 156,
     "metadata": {},
     "output_type": "execute_result"
    }
   ],
   "source": [
    "response"
   ]
  },
  {
   "cell_type": "markdown",
   "metadata": {},
   "source": [
    "#### Step 4 - Create Json Object"
   ]
  },
  {
   "cell_type": "code",
   "execution_count": 157,
   "metadata": {},
   "outputs": [],
   "source": [
    "results_json = response.json()"
   ]
  },
  {
   "cell_type": "markdown",
   "metadata": {},
   "source": [
    "#### Step 5 - Output Keys"
   ]
  },
  {
   "cell_type": "code",
   "execution_count": 158,
   "metadata": {},
   "outputs": [
    {
     "data": {
      "text/plain": [
       "dict_keys(['data'])"
      ]
     },
     "execution_count": 158,
     "metadata": {},
     "output_type": "execute_result"
    }
   ],
   "source": [
    "results_json.keys()"
   ]
  },
  {
   "cell_type": "code",
   "execution_count": 159,
   "metadata": {},
   "outputs": [],
   "source": [
    "result_items = results_json['data']['search']['products']"
   ]
  },
  {
   "cell_type": "code",
   "execution_count": 160,
   "metadata": {},
   "outputs": [
    {
     "data": {
      "text/plain": [
       "24"
      ]
     },
     "execution_count": 160,
     "metadata": {},
     "output_type": "execute_result"
    }
   ],
   "source": [
    "len(result_items)"
   ]
  },
  {
   "cell_type": "markdown",
   "metadata": {},
   "source": [
    "#### Step 6 - Find your Data"
   ]
  },
  {
   "cell_type": "markdown",
   "metadata": {},
   "source": [
    "- product title\n",
    "- price\n",
    "- brand\n",
    "- average rating\n",
    "- rating count"
   ]
  },
  {
   "cell_type": "code",
   "execution_count": 161,
   "metadata": {},
   "outputs": [
    {
     "data": {
      "text/plain": [
       "'Power Systems Multi Functional Fitness Weight Bench Step Deck with Non Slip Surface for Full Body Home Exercise, Gym Cardio, and Strength Workouts'"
      ]
     },
     "execution_count": 161,
     "metadata": {},
     "output_type": "execute_result"
    }
   ],
   "source": [
    "# product title\n",
    "# wenn zeichen nicht da wird nicht replaced, keine fehlermeldung\n",
    "result_items[0]['item']['product_description']['title'].replace('&#8482;','')"
   ]
  },
  {
   "cell_type": "code",
   "execution_count": 162,
   "metadata": {},
   "outputs": [
    {
     "data": {
      "text/plain": [
       "'$144.99'"
      ]
     },
     "execution_count": 162,
     "metadata": {},
     "output_type": "execute_result"
    }
   ],
   "source": [
    "# price\n",
    "result_items[0]['price']['formatted_current_price']"
   ]
  },
  {
   "cell_type": "code",
   "execution_count": 163,
   "metadata": {},
   "outputs": [
    {
     "data": {
      "text/plain": [
       "'Power Systems'"
      ]
     },
     "execution_count": 163,
     "metadata": {},
     "output_type": "execute_result"
    }
   ],
   "source": [
    "# brand\n",
    "result_items[0]['item']['primary_brand']['name']"
   ]
  },
  {
   "cell_type": "code",
   "execution_count": 164,
   "metadata": {},
   "outputs": [
    {
     "data": {
      "text/plain": [
       "4.36"
      ]
     },
     "execution_count": 164,
     "metadata": {},
     "output_type": "execute_result"
    }
   ],
   "source": [
    "#average rating\n",
    "result_items[0]['ratings_and_reviews']['statistics']['rating']['average']"
   ]
  },
  {
   "cell_type": "code",
   "execution_count": 165,
   "metadata": {},
   "outputs": [
    {
     "data": {
      "text/plain": [
       "11"
      ]
     },
     "execution_count": 165,
     "metadata": {},
     "output_type": "execute_result"
    }
   ],
   "source": [
    "# rating count\n",
    "result_items[0]['ratings_and_reviews']['statistics']['rating']['count']"
   ]
  },
  {
   "cell_type": "markdown",
   "metadata": {},
   "source": [
    "#### Step 7 - Put everything together - Loop through results and append data inside a list"
   ]
  },
  {
   "cell_type": "code",
   "execution_count": 172,
   "metadata": {},
   "outputs": [],
   "source": [
    "product_title = []\n",
    "price = []\n",
    "brand = []\n",
    "average_rating = []\n",
    "rating_count = []\n",
    "\n",
    "for result in result_items:\n",
    "    \n",
    "    # product title\n",
    "    try:\n",
    "        product_title.append(result['item']['product_description']['title'].replace('&#8482;',''))\n",
    "    except:\n",
    "        product_title.append('')\n",
    "    \n",
    "    # price\n",
    "    try:\n",
    "        price.append(result['price']['formatted_current_price'])\n",
    "    except:\n",
    "        price.append('')\n",
    "    \n",
    "    # brand\n",
    "    try:\n",
    "        brand.append(result['item']['primary_brand']['name'])\n",
    "    except:\n",
    "        brand.append('')\n",
    "    \n",
    "    # average rating\n",
    "    try:\n",
    "        average_rating.append(result['ratings_and_reviews']['statistics']['rating']['average'])\n",
    "    except:\n",
    "        average_rating.append('')\n",
    "    \n",
    "    # rating count\n",
    "    try:\n",
    "        rating_count.append(result['ratings_and_reviews']['statistics']['rating']['count'])\n",
    "    except:\n",
    "        rating_count.append('')"
   ]
  },
  {
   "cell_type": "markdown",
   "metadata": {},
   "source": [
    "#### Step 8 - Pandas Dataframe"
   ]
  },
  {
   "cell_type": "code",
   "execution_count": 175,
   "metadata": {},
   "outputs": [],
   "source": [
    "target_df = pd.DataFrame({'Product Title': product_title,'Brand': brand, 'Average Rating': average_rating,\n",
    "                         'Rating Count': rating_count, 'Price':price})"
   ]
  },
  {
   "cell_type": "code",
   "execution_count": 176,
   "metadata": {},
   "outputs": [
    {
     "data": {
      "text/html": [
       "<div>\n",
       "<style scoped>\n",
       "    .dataframe tbody tr th:only-of-type {\n",
       "        vertical-align: middle;\n",
       "    }\n",
       "\n",
       "    .dataframe tbody tr th {\n",
       "        vertical-align: top;\n",
       "    }\n",
       "\n",
       "    .dataframe thead th {\n",
       "        text-align: right;\n",
       "    }\n",
       "</style>\n",
       "<table border=\"1\" class=\"dataframe\">\n",
       "  <thead>\n",
       "    <tr style=\"text-align: right;\">\n",
       "      <th></th>\n",
       "      <th>Product Title</th>\n",
       "      <th>Brand</th>\n",
       "      <th>Average Rating</th>\n",
       "      <th>Rating Count</th>\n",
       "      <th>Price</th>\n",
       "    </tr>\n",
       "  </thead>\n",
       "  <tbody>\n",
       "    <tr>\n",
       "      <th>0</th>\n",
       "      <td>Power Systems Multi Functional Fitness Weight ...</td>\n",
       "      <td>Power Systems</td>\n",
       "      <td>4.36</td>\n",
       "      <td>11</td>\n",
       "      <td>$144.99</td>\n",
       "    </tr>\n",
       "    <tr>\n",
       "      <th>1</th>\n",
       "      <td>ProForm Adjustable Dumbbells 25lbs &amp;#8211; Bla...</td>\n",
       "      <td>ProForm</td>\n",
       "      <td>3.75</td>\n",
       "      <td>55</td>\n",
       "      <td>$79.99</td>\n",
       "    </tr>\n",
       "    <tr>\n",
       "      <th>2</th>\n",
       "      <td>Lifeline Olympic Rubber Bumper Plate 45lbs</td>\n",
       "      <td>Lifeline</td>\n",
       "      <td>4.25</td>\n",
       "      <td>4</td>\n",
       "      <td>$89.99</td>\n",
       "    </tr>\n",
       "    <tr>\n",
       "      <th>3</th>\n",
       "      <td>Sporzon Exercise Equipment Single Rubber Encas...</td>\n",
       "      <td>Sporzon!</td>\n",
       "      <td>0</td>\n",
       "      <td>0</td>\n",
       "      <td>$62.99</td>\n",
       "    </tr>\n",
       "    <tr>\n",
       "      <th>4</th>\n",
       "      <td>Sporzon! Exercise Equipment Rubber Encased Hex...</td>\n",
       "      <td>Sporzon!</td>\n",
       "      <td>0</td>\n",
       "      <td>0</td>\n",
       "      <td>$99.99</td>\n",
       "    </tr>\n",
       "    <tr>\n",
       "      <th>5</th>\n",
       "      <td>Everyday Essentials 15 Pound Full Body Fitness...</td>\n",
       "      <td>Everyday Essentials</td>\n",
       "      <td>5</td>\n",
       "      <td>2</td>\n",
       "      <td>$21.99</td>\n",
       "    </tr>\n",
       "    <tr>\n",
       "      <th>6</th>\n",
       "      <td>Lifeline Olympic Rubber Bumper Plate 25lbs</td>\n",
       "      <td>Lifeline</td>\n",
       "      <td>5</td>\n",
       "      <td>1</td>\n",
       "      <td>$49.99</td>\n",
       "    </tr>\n",
       "    <tr>\n",
       "      <th>7</th>\n",
       "      <td>Body Champ PBC530 U Frame/ Cage Power Rack Sys...</td>\n",
       "      <td>Body Champ</td>\n",
       "      <td>0</td>\n",
       "      <td>0</td>\n",
       "      <td>$161.99</td>\n",
       "    </tr>\n",
       "    <tr>\n",
       "      <th>8</th>\n",
       "      <td>Body Champ BCB580 Standard Weightlifting Exerc...</td>\n",
       "      <td>Body Champ</td>\n",
       "      <td>3</td>\n",
       "      <td>6</td>\n",
       "      <td>$159.99</td>\n",
       "    </tr>\n",
       "    <tr>\n",
       "      <th>9</th>\n",
       "      <td>Everyday Essentials 20 Pound Full Body Fitness...</td>\n",
       "      <td>Everyday Essentials</td>\n",
       "      <td>0</td>\n",
       "      <td>0</td>\n",
       "      <td>$32.99</td>\n",
       "    </tr>\n",
       "    <tr>\n",
       "      <th>10</th>\n",
       "      <td>Bowflex 3.1S Weight Bench - Black</td>\n",
       "      <td>Bowflex</td>\n",
       "      <td>0</td>\n",
       "      <td>0</td>\n",
       "      <td>$199.99</td>\n",
       "    </tr>\n",
       "    <tr>\n",
       "      <th>11</th>\n",
       "      <td>Fitness Reality X-Class Olympic Weight Tree</td>\n",
       "      <td>Fitness Reality</td>\n",
       "      <td>4.2</td>\n",
       "      <td>5</td>\n",
       "      <td>$99.99</td>\n",
       "    </tr>\n",
       "    <tr>\n",
       "      <th>12</th>\n",
       "      <td>Marcy Olympic Bench</td>\n",
       "      <td>Marcy</td>\n",
       "      <td>3.6</td>\n",
       "      <td>5</td>\n",
       "      <td>$283.99</td>\n",
       "    </tr>\n",
       "    <tr>\n",
       "      <th>13</th>\n",
       "      <td>HolaHatha Neoprene Coated Hex Dumbbell Weight ...</td>\n",
       "      <td>HolaHatha</td>\n",
       "      <td>0</td>\n",
       "      <td>0</td>\n",
       "      <td>$28.99</td>\n",
       "    </tr>\n",
       "    <tr>\n",
       "      <th>14</th>\n",
       "      <td>WECARE Neoprene Dumbells 2pc - Black 12lbs</td>\n",
       "      <td>WECARE</td>\n",
       "      <td>0</td>\n",
       "      <td>0</td>\n",
       "      <td>$54.99</td>\n",
       "    </tr>\n",
       "    <tr>\n",
       "      <th>15</th>\n",
       "      <td>Bowflex SelectTech Dumbbell Stand with Media R...</td>\n",
       "      <td>Bowflex</td>\n",
       "      <td>4.38</td>\n",
       "      <td>165</td>\n",
       "      <td>$179.00</td>\n",
       "    </tr>\n",
       "    <tr>\n",
       "      <th>16</th>\n",
       "      <td>Fila Neoprene Dumbbell - 15lbs</td>\n",
       "      <td>Fila</td>\n",
       "      <td></td>\n",
       "      <td></td>\n",
       "      <td>$23.99</td>\n",
       "    </tr>\n",
       "    <tr>\n",
       "      <th>17</th>\n",
       "      <td>Marcy Pro Adjustable Strength and Weight Train...</td>\n",
       "      <td>Marcy</td>\n",
       "      <td>0</td>\n",
       "      <td>0</td>\n",
       "      <td>$72.99</td>\n",
       "    </tr>\n",
       "    <tr>\n",
       "      <th>18</th>\n",
       "      <td>HulkFit HFAD-BMON Adjustable and Foldable 1,00...</td>\n",
       "      <td>Hulkfit</td>\n",
       "      <td>0</td>\n",
       "      <td>0</td>\n",
       "      <td>$249.99</td>\n",
       "    </tr>\n",
       "    <tr>\n",
       "      <th>19</th>\n",
       "      <td>BalanceFrom Rubber Encased Hexagonal Cast Meta...</td>\n",
       "      <td>BalanceFrom Fitness</td>\n",
       "      <td>0</td>\n",
       "      <td>0</td>\n",
       "      <td>$57.61</td>\n",
       "    </tr>\n",
       "    <tr>\n",
       "      <th>20</th>\n",
       "      <td>BalanceFrom Rubber Encased Hexagonal Cast Meta...</td>\n",
       "      <td>BalanceFrom Fitness</td>\n",
       "      <td>0</td>\n",
       "      <td>0</td>\n",
       "      <td>$99.99</td>\n",
       "    </tr>\n",
       "    <tr>\n",
       "      <th>21</th>\n",
       "      <td>BalanceFrom Fitness Exercise Equipment Rubber ...</td>\n",
       "      <td>BalanceFrom Fitness</td>\n",
       "      <td>0</td>\n",
       "      <td>0</td>\n",
       "      <td>$59.99</td>\n",
       "    </tr>\n",
       "    <tr>\n",
       "      <th>22</th>\n",
       "      <td>Marcy Multi-Purpose Adjustable Utility Bench</td>\n",
       "      <td>Marcy</td>\n",
       "      <td>5</td>\n",
       "      <td>1</td>\n",
       "      <td>$99.99</td>\n",
       "    </tr>\n",
       "    <tr>\n",
       "      <th>23</th>\n",
       "      <td>Valor Fitness Ankle and Wrist Weight Pair - Re...</td>\n",
       "      <td>Valor Fitness</td>\n",
       "      <td>4.4</td>\n",
       "      <td>5</td>\n",
       "      <td>$21.99</td>\n",
       "    </tr>\n",
       "  </tbody>\n",
       "</table>\n",
       "</div>"
      ],
      "text/plain": [
       "                                        Product Title                Brand  \\\n",
       "0   Power Systems Multi Functional Fitness Weight ...        Power Systems   \n",
       "1   ProForm Adjustable Dumbbells 25lbs &#8211; Bla...              ProForm   \n",
       "2          Lifeline Olympic Rubber Bumper Plate 45lbs             Lifeline   \n",
       "3   Sporzon Exercise Equipment Single Rubber Encas...             Sporzon!   \n",
       "4   Sporzon! Exercise Equipment Rubber Encased Hex...             Sporzon!   \n",
       "5   Everyday Essentials 15 Pound Full Body Fitness...  Everyday Essentials   \n",
       "6          Lifeline Olympic Rubber Bumper Plate 25lbs             Lifeline   \n",
       "7   Body Champ PBC530 U Frame/ Cage Power Rack Sys...           Body Champ   \n",
       "8   Body Champ BCB580 Standard Weightlifting Exerc...           Body Champ   \n",
       "9   Everyday Essentials 20 Pound Full Body Fitness...  Everyday Essentials   \n",
       "10                  Bowflex 3.1S Weight Bench - Black              Bowflex   \n",
       "11        Fitness Reality X-Class Olympic Weight Tree      Fitness Reality   \n",
       "12                                Marcy Olympic Bench                Marcy   \n",
       "13  HolaHatha Neoprene Coated Hex Dumbbell Weight ...            HolaHatha   \n",
       "14         WECARE Neoprene Dumbells 2pc - Black 12lbs               WECARE   \n",
       "15  Bowflex SelectTech Dumbbell Stand with Media R...              Bowflex   \n",
       "16                     Fila Neoprene Dumbbell - 15lbs                 Fila   \n",
       "17  Marcy Pro Adjustable Strength and Weight Train...                Marcy   \n",
       "18  HulkFit HFAD-BMON Adjustable and Foldable 1,00...              Hulkfit   \n",
       "19  BalanceFrom Rubber Encased Hexagonal Cast Meta...  BalanceFrom Fitness   \n",
       "20  BalanceFrom Rubber Encased Hexagonal Cast Meta...  BalanceFrom Fitness   \n",
       "21  BalanceFrom Fitness Exercise Equipment Rubber ...  BalanceFrom Fitness   \n",
       "22       Marcy Multi-Purpose Adjustable Utility Bench                Marcy   \n",
       "23  Valor Fitness Ankle and Wrist Weight Pair - Re...        Valor Fitness   \n",
       "\n",
       "   Average Rating Rating Count    Price  \n",
       "0            4.36           11  $144.99  \n",
       "1            3.75           55   $79.99  \n",
       "2            4.25            4   $89.99  \n",
       "3               0            0   $62.99  \n",
       "4               0            0   $99.99  \n",
       "5               5            2   $21.99  \n",
       "6               5            1   $49.99  \n",
       "7               0            0  $161.99  \n",
       "8               3            6  $159.99  \n",
       "9               0            0   $32.99  \n",
       "10              0            0  $199.99  \n",
       "11            4.2            5   $99.99  \n",
       "12            3.6            5  $283.99  \n",
       "13              0            0   $28.99  \n",
       "14              0            0   $54.99  \n",
       "15           4.38          165  $179.00  \n",
       "16                               $23.99  \n",
       "17              0            0   $72.99  \n",
       "18              0            0  $249.99  \n",
       "19              0            0   $57.61  \n",
       "20              0            0   $99.99  \n",
       "21              0            0   $59.99  \n",
       "22              5            1   $99.99  \n",
       "23            4.4            5   $21.99  "
      ]
     },
     "execution_count": 176,
     "metadata": {},
     "output_type": "execute_result"
    }
   ],
   "source": [
    "target_df"
   ]
  },
  {
   "cell_type": "markdown",
   "metadata": {},
   "source": [
    "#### Step 10 - Multiple Pages"
   ]
  },
  {
   "cell_type": "code",
   "execution_count": 177,
   "metadata": {},
   "outputs": [],
   "source": [
    "product_title = []\n",
    "price = []\n",
    "brand = []\n",
    "average_rating = []\n",
    "rating_count = []\n",
    "\n",
    "for i in range(0,240,24):\n",
    "\n",
    "    headers = {\n",
    "        'authority': 'redsky.target.com',\n",
    "        'sec-ch-ua': '^\\\\^Chromium^\\\\^;v=^\\\\^92^\\\\^, ^\\\\^',\n",
    "        'accept': 'application/json',\n",
    "        'sec-ch-ua-mobile': '?0',\n",
    "        'user-agent': 'Mozilla/5.0 (Windows NT 10.0; Win64; x64) AppleWebKit/537.36 (KHTML, like Gecko) Chrome/92.0.4515.131 Safari/537.36',\n",
    "        'origin': 'https://www.target.com',\n",
    "        'sec-fetch-site': 'same-site',\n",
    "        'sec-fetch-mode': 'cors',\n",
    "        'sec-fetch-dest': 'empty',\n",
    "        'referer': 'https://www.target.com/c/game-room-sports-outdoors/-/N-5xt6o?Nao=24',\n",
    "        'accept-language': 'en-US,en;q=0.9,de-DE;q=0.8,de;q=0.7',\n",
    "    }\n",
    "\n",
    "    params = (\n",
    "        ('key', 'ff457966e64d5e877fdbad070f276d18ecec4a01'),\n",
    "        ('category', '5xt6o'),\n",
    "        ('channel', 'WEB'),\n",
    "        ('count', '24'),\n",
    "        ('default_purchasability_filter', 'false'),\n",
    "        ('include_sponsored', 'true'),\n",
    "        ('offset', str(i)),\n",
    "        ('page', '^%^2Fc^%^2F5xt6o'),\n",
    "        ('platform', 'desktop'),\n",
    "        ('pricing_store_id', '3991'),\n",
    "        ('useragent', 'Mozilla^%^2F5.0 ^%^28Windows NT 10.0^%^3B Win64^%^3B x64^%^29 AppleWebKit^%^2F537.36 ^%^28KHTML^%^2C like Gecko^%^29 Chrome^%^2F92.0.4515.131 Safari^%^2F537.36'),\n",
    "        ('visitor_id', '017AFCB9478D0201A8BDC7E5A6968734'),\n",
    "    )\n",
    "    \n",
    "    # response\n",
    "    response = requests.get('https://redsky.target.com/redsky_aggregations/v1/web/plp_search_v1', headers=headers, params=params)\n",
    "\n",
    "    # json object\n",
    "    results_json = response.json()\n",
    "\n",
    "    # result items (starting point)\n",
    "    result_items = results_json['data']['search']['products']\n",
    "    \n",
    "    for result in result_items:\n",
    "    \n",
    "        # product title\n",
    "        try:\n",
    "            product_title.append(result['item']['product_description']['title'].replace('&#8482;',''))\n",
    "        except:\n",
    "            product_title.append('')\n",
    "\n",
    "        # price\n",
    "        try:\n",
    "            price.append(result['price']['formatted_current_price'])\n",
    "        except:\n",
    "            price.append('')\n",
    "\n",
    "        # brand\n",
    "        try:\n",
    "            brand.append(result['item']['primary_brand']['name'])\n",
    "        except:\n",
    "            brand.append('')\n",
    "\n",
    "        # average rating\n",
    "        try:\n",
    "            average_rating.append(result['ratings_and_reviews']['statistics']['rating']['average'])\n",
    "        except:\n",
    "            average_rating.append('')\n",
    "\n",
    "        # rating count\n",
    "        try:\n",
    "            rating_count.append(result['ratings_and_reviews']['statistics']['rating']['count'])\n",
    "        except:\n",
    "            rating_count.append('')\n"
   ]
  },
  {
   "cell_type": "code",
   "execution_count": 178,
   "metadata": {},
   "outputs": [
    {
     "data": {
      "text/html": [
       "<div>\n",
       "<style scoped>\n",
       "    .dataframe tbody tr th:only-of-type {\n",
       "        vertical-align: middle;\n",
       "    }\n",
       "\n",
       "    .dataframe tbody tr th {\n",
       "        vertical-align: top;\n",
       "    }\n",
       "\n",
       "    .dataframe thead th {\n",
       "        text-align: right;\n",
       "    }\n",
       "</style>\n",
       "<table border=\"1\" class=\"dataframe\">\n",
       "  <thead>\n",
       "    <tr style=\"text-align: right;\">\n",
       "      <th></th>\n",
       "      <th>Product Title</th>\n",
       "      <th>Brand</th>\n",
       "      <th>Average Rating</th>\n",
       "      <th>Rating Count</th>\n",
       "      <th>Price</th>\n",
       "    </tr>\n",
       "  </thead>\n",
       "  <tbody>\n",
       "    <tr>\n",
       "      <th>0</th>\n",
       "      <td>ESPN Indoor Home 2 Player Hoop Shooting Basket...</td>\n",
       "      <td>ESPN</td>\n",
       "      <td>5</td>\n",
       "      <td>1</td>\n",
       "      <td>$109.99</td>\n",
       "    </tr>\n",
       "    <tr>\n",
       "      <th>1</th>\n",
       "      <td>GoSports Pass The Puck Rapid-Shot Premium Wood...</td>\n",
       "      <td>GoSports</td>\n",
       "      <td>5</td>\n",
       "      <td>5</td>\n",
       "      <td>$44.99</td>\n",
       "    </tr>\n",
       "    <tr>\n",
       "      <th>2</th>\n",
       "      <td>VTech Count &amp;#38; Win Sports Center with Baske...</td>\n",
       "      <td>VTech</td>\n",
       "      <td>4.75</td>\n",
       "      <td>156</td>\n",
       "      <td>$39.99</td>\n",
       "    </tr>\n",
       "    <tr>\n",
       "      <th>3</th>\n",
       "      <td>REC-TEK Table Top Bean Bag Toss Set</td>\n",
       "      <td>REC-TEK</td>\n",
       "      <td>2.83</td>\n",
       "      <td>6</td>\n",
       "      <td>$19.99</td>\n",
       "    </tr>\n",
       "    <tr>\n",
       "      <th>4</th>\n",
       "      <td>Hathaway Dynasty 54&amp;#34; Foosball Table</td>\n",
       "      <td>Hathaway</td>\n",
       "      <td>0</td>\n",
       "      <td>0</td>\n",
       "      <td>$268.99</td>\n",
       "    </tr>\n",
       "    <tr>\n",
       "      <th>...</th>\n",
       "      <td>...</td>\n",
       "      <td>...</td>\n",
       "      <td>...</td>\n",
       "      <td>...</td>\n",
       "      <td>...</td>\n",
       "    </tr>\n",
       "    <tr>\n",
       "      <th>236</th>\n",
       "      <td>Viper Pitbull 90% Tungsten Soft Tip Darts Diam...</td>\n",
       "      <td>Viper</td>\n",
       "      <td></td>\n",
       "      <td></td>\n",
       "      <td>$63.99</td>\n",
       "    </tr>\n",
       "    <tr>\n",
       "      <th>237</th>\n",
       "      <td>Casemaster Classic Blue Nylon Dart Case</td>\n",
       "      <td>Casemaster</td>\n",
       "      <td></td>\n",
       "      <td></td>\n",
       "      <td>$52.99</td>\n",
       "    </tr>\n",
       "    <tr>\n",
       "      <th>238</th>\n",
       "      <td>Viper Underground Rock &amp; Roll Billiard/Pool Cu...</td>\n",
       "      <td>Viper</td>\n",
       "      <td></td>\n",
       "      <td></td>\n",
       "      <td>$54.99</td>\n",
       "    </tr>\n",
       "    <tr>\n",
       "      <th>239</th>\n",
       "      <td>Viper Defender II Steel Tip Dart Wall Protecto...</td>\n",
       "      <td>Viper</td>\n",
       "      <td>0</td>\n",
       "      <td>0</td>\n",
       "      <td>$32.99</td>\n",
       "    </tr>\n",
       "    <tr>\n",
       "      <th>240</th>\n",
       "      <td>Viper Commercial Brass Bar Darts - Bag of 45 D...</td>\n",
       "      <td>Viper</td>\n",
       "      <td></td>\n",
       "      <td></td>\n",
       "      <td>$47.99</td>\n",
       "    </tr>\n",
       "  </tbody>\n",
       "</table>\n",
       "<p>241 rows × 5 columns</p>\n",
       "</div>"
      ],
      "text/plain": [
       "                                         Product Title       Brand  \\\n",
       "0    ESPN Indoor Home 2 Player Hoop Shooting Basket...        ESPN   \n",
       "1    GoSports Pass The Puck Rapid-Shot Premium Wood...    GoSports   \n",
       "2    VTech Count &#38; Win Sports Center with Baske...       VTech   \n",
       "3                  REC-TEK Table Top Bean Bag Toss Set     REC-TEK   \n",
       "4              Hathaway Dynasty 54&#34; Foosball Table    Hathaway   \n",
       "..                                                 ...         ...   \n",
       "236  Viper Pitbull 90% Tungsten Soft Tip Darts Diam...       Viper   \n",
       "237            Casemaster Classic Blue Nylon Dart Case  Casemaster   \n",
       "238  Viper Underground Rock & Roll Billiard/Pool Cu...       Viper   \n",
       "239  Viper Defender II Steel Tip Dart Wall Protecto...       Viper   \n",
       "240  Viper Commercial Brass Bar Darts - Bag of 45 D...       Viper   \n",
       "\n",
       "    Average Rating Rating Count    Price  \n",
       "0                5            1  $109.99  \n",
       "1                5            5   $44.99  \n",
       "2             4.75          156   $39.99  \n",
       "3             2.83            6   $19.99  \n",
       "4                0            0  $268.99  \n",
       "..             ...          ...      ...  \n",
       "236                               $63.99  \n",
       "237                               $52.99  \n",
       "238                               $54.99  \n",
       "239              0            0   $32.99  \n",
       "240                               $47.99  \n",
       "\n",
       "[241 rows x 5 columns]"
      ]
     },
     "execution_count": 178,
     "metadata": {},
     "output_type": "execute_result"
    }
   ],
   "source": [
    "target_df = pd.DataFrame({'Product Title': product_title,'Brand': brand, 'Average Rating': average_rating,\n",
    "                         'Rating Count': rating_count, 'Price':price})\n",
    "target_df"
   ]
  },
  {
   "cell_type": "markdown",
   "metadata": {},
   "source": [
    "#### Step 9 - Store results in Excel"
   ]
  },
  {
   "cell_type": "code",
   "execution_count": 179,
   "metadata": {},
   "outputs": [],
   "source": [
    "target_df.to_excel('target_multiple_pages.xlsx', index=False)"
   ]
  }
 ],
 "metadata": {
  "kernelspec": {
   "display_name": "Python 3",
   "language": "python",
   "name": "python3"
  },
  "language_info": {
   "codemirror_mode": {
    "name": "ipython",
    "version": 3
   },
   "file_extension": ".py",
   "mimetype": "text/x-python",
   "name": "python",
   "nbconvert_exporter": "python",
   "pygments_lexer": "ipython3",
   "version": "3.9.2"
  }
 },
 "nbformat": 4,
 "nbformat_minor": 4
}
